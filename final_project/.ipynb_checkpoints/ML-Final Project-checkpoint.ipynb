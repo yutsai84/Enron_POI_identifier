{
 "cells": [
  {
   "cell_type": "code",
   "execution_count": 1,
   "metadata": {
    "collapsed": false,
    "deletable": true,
    "editable": true
   },
   "outputs": [
    {
     "ename": "RuntimeError",
     "evalue": "module compiled against API version 0xb but this version of numpy is 0xa",
     "output_type": "error",
     "traceback": [
      "\u001b[0;31m---------------------------------------------------------------------------\u001b[0m",
      "\u001b[0;31mRuntimeError\u001b[0m                              Traceback (most recent call last)",
      "\u001b[0;31mRuntimeError\u001b[0m: module compiled against API version 0xb but this version of numpy is 0xa"
     ]
    },
    {
     "ename": "RuntimeError",
     "evalue": "module compiled against API version 0xb but this version of numpy is 0xa",
     "output_type": "error",
     "traceback": [
      "\u001b[0;31m---------------------------------------------------------------------------\u001b[0m",
      "\u001b[0;31mRuntimeError\u001b[0m                              Traceback (most recent call last)",
      "\u001b[0;31mRuntimeError\u001b[0m: module compiled against API version 0xb but this version of numpy is 0xa"
     ]
    },
    {
     "ename": "RuntimeError",
     "evalue": "module compiled against API version 0xb but this version of numpy is 0xa",
     "output_type": "error",
     "traceback": [
      "\u001b[0;31m---------------------------------------------------------------------------\u001b[0m",
      "\u001b[0;31mRuntimeError\u001b[0m                              Traceback (most recent call last)",
      "\u001b[0;31mRuntimeError\u001b[0m: module compiled against API version 0xb but this version of numpy is 0xa"
     ]
    },
    {
     "ename": "RuntimeError",
     "evalue": "module compiled against API version 0xb but this version of numpy is 0xa",
     "output_type": "error",
     "traceback": [
      "\u001b[0;31m---------------------------------------------------------------------------\u001b[0m",
      "\u001b[0;31mRuntimeError\u001b[0m                              Traceback (most recent call last)",
      "\u001b[0;31mRuntimeError\u001b[0m: module compiled against API version 0xb but this version of numpy is 0xa"
     ]
    },
    {
     "ename": "RuntimeError",
     "evalue": "module compiled against API version 0xb but this version of numpy is 0xa",
     "output_type": "error",
     "traceback": [
      "\u001b[0;31m---------------------------------------------------------------------------\u001b[0m",
      "\u001b[0;31mRuntimeError\u001b[0m                              Traceback (most recent call last)",
      "\u001b[0;31mRuntimeError\u001b[0m: module compiled against API version 0xb but this version of numpy is 0xa"
     ]
    },
    {
     "name": "stderr",
     "output_type": "stream",
     "text": [
      "/home/amywu/anaconda3/lib/python2.7/site-packages/sklearn/cross_validation.py:44: DeprecationWarning: This module was deprecated in version 0.18 in favor of the model_selection module into which all the refactored classes and functions are moved. Also note that the interface of the new CV iterators are different from that of this module. This module will be removed in 0.20.\n",
      "  \"This module will be removed in 0.20.\", DeprecationWarning)\n"
     ]
    }
   ],
   "source": [
    "import numpy as np\n",
    "import sys\n",
    "import pickle\n",
    "import pandas as pd\n",
    "import matplotlib.pyplot as plt\n",
    "sys.path.append(\"../tools/\")\n",
    "from feature_format import featureFormat, targetFeatureSplit\n",
    "from tester import dump_classifier_and_data\n",
    "from tester import test_classifier\n",
    "from sklearn.preprocessing import MinMaxScaler\n"
   ]
  },
  {
   "cell_type": "markdown",
   "metadata": {},
   "source": [
    "## Import Data Set"
   ]
  },
  {
   "cell_type": "code",
   "execution_count": 2,
   "metadata": {
    "collapsed": false
   },
   "outputs": [
    {
     "name": "stdout",
     "output_type": "stream",
     "text": [
      "['METTS MARK', 'BAXTER JOHN C', 'ELLIOTT STEVEN', 'CORDES WILLIAM R', 'HANNON KEVIN P', 'MORDAUNT KRISTINA M', 'MEYER ROCKFORD G', 'MCMAHON JEFFREY', 'HORTON STANLEY C', 'PIPER GREGORY F', 'HUMPHREY GENE E', 'UMANOFF ADAM S', 'BLACHMAN JEREMY M', 'SUNDE MARTIN', 'GIBBS DANA R', 'LOWRY CHARLES P', 'COLWELL WESLEY', 'MULLER MARK S', 'JACKSON CHARLENE R', 'WESTFAHL RICHARD K', 'WALTERS GARETH W', 'WALLS JR ROBERT H', 'KITCHEN LOUISE', 'CHAN RONNIE', 'BELFER ROBERT', 'SHANKMAN JEFFREY A', 'WODRASKA JOHN', 'BERGSIEKER RICHARD P', 'URQUHART JOHN A', 'BIBI PHILIPPE A', 'RIEKER PAULA H', 'WHALEY DAVID A', 'BECK SALLY W', 'HAUG DAVID L', 'ECHOLS JOHN B', 'MENDELSOHN JOHN', 'HICKERSON GARY J', 'CLINE KENNETH W', 'LEWIS RICHARD', 'HAYES ROBERT E', 'MCCARTY DANNY J', 'KOPPER MICHAEL J', 'LEFF DANIEL P', 'LAVORATO JOHN J', 'BERBERIAN DAVID', 'DETMERING TIMOTHY J', 'WAKEHAM JOHN', 'POWERS WILLIAM', 'GOLD JOSEPH', 'BANNANTINE JAMES M', 'DUNCAN JOHN H', 'SHAPIRO RICHARD S', 'SHERRIFF JOHN R', 'SHELBY REX', 'LEMAISTRE CHARLES', 'DEFFNER JOSEPH M', 'KISHKILL JOSEPH G', 'WHALLEY LAWRENCE G', 'MCCONNELL MICHAEL S', 'PIRO JIM', 'DELAINEY DAVID W', 'SULLIVAN-SHAKLOVITZ COLLEEN', 'WROBEL BRUCE', 'LINDHOLM TOD A', 'MEYER JEROME J', 'LAY KENNETH L', 'BUTTS ROBERT H', 'OLSON CINDY K', 'MCDONALD REBECCA', 'CUMBERLAND MICHAEL S', 'GAHN ROBERT S', 'MCCLELLAN GEORGE', 'HERMANN ROBERT J', 'SCRIMSHAW MATTHEW', 'GATHMANN WILLIAM D', 'HAEDICKE MARK E', 'BOWEN JR RAYMOND M', 'GILLIS JOHN', 'FITZGERALD JAY L', 'MORAN MICHAEL P', 'REDMOND BRIAN L', 'BAZELIDES PHILIP J', 'BELDEN TIMOTHY N', 'DURAN WILLIAM D', 'THORN TERENCE H', 'FASTOW ANDREW S', 'FOY JOE', 'CALGER CHRISTOPHER F', 'RICE KENNETH D', 'KAMINSKI WINCENTY J', 'LOCKHART EUGENE E', 'COX DAVID', 'OVERDYKE JR JERE C', 'PEREIRA PAULO V. FERRAZ', 'STABLER FRANK', 'SKILLING JEFFREY K', 'BLAKE JR. NORMAN P', 'SHERRICK JEFFREY B', 'PRENTICE JAMES', 'GRAY RODNEY', 'PICKERING MARK R', 'THE TRAVEL AGENCY IN THE PARK', 'NOLES JAMES L', 'KEAN STEVEN J', 'TOTAL', 'FOWLER PEGGY', 'WASAFF GEORGE', 'WHITE JR THOMAS E', 'CHRISTODOULOU DIOMEDES', 'ALLEN PHILLIP K', 'SHARP VICTORIA T', 'JAEDICKE ROBERT', 'WINOKUR JR. HERBERT S', 'BROWN MICHAEL', 'BADUM JAMES P', 'HUGHES JAMES A', 'REYNOLDS LAWRENCE', 'DIMICHELE RICHARD G', 'BHATNAGAR SANJAY', 'CARTER REBECCA C', 'BUCHANAN HAROLD G', 'YEAP SOON', 'MURRAY JULIA H', 'GARLAND C KEVIN', 'DODSON KEITH', 'YEAGER F SCOTT', 'HIRKO JOSEPH', 'DIETRICH JANET R', 'DERRICK JR. JAMES V', 'FREVERT MARK A', 'PAI LOU L', 'BAY FRANKLIN R', 'HAYSLETT RODERICK J', 'FUGH JOHN L', 'FALLON JAMES B', 'KOENIG MARK E', 'SAVAGE FRANK', 'IZZO LAWRENCE L', 'TILNEY ELIZABETH A', 'MARTIN AMANDA K', 'BUY RICHARD B', 'GRAMM WENDY L', 'CAUSEY RICHARD A', 'TAYLOR MITCHELL S', 'DONAHUE JR JEFFREY M', 'GLISAN JR BEN F']\n"
     ]
    }
   ],
   "source": [
    "with open(\"final_project_dataset.pkl\", \"r\") as data_file:\n",
    "    data_dict = pickle.load(data_file)\n",
    "\n",
    "print data_dict.keys()\n"
   ]
  },
  {
   "cell_type": "code",
   "execution_count": 3,
   "metadata": {
    "collapsed": false
   },
   "outputs": [
    {
     "name": "stdout",
     "output_type": "stream",
     "text": [
      "{'salary': 365788, 'to_messages': 807, 'deferral_payments': 'NaN', 'total_payments': 1061827, 'exercised_stock_options': 'NaN', 'bonus': 600000, 'restricted_stock': 585062, 'shared_receipt_with_poi': 702, 'restricted_stock_deferred': 'NaN', 'total_stock_value': 585062, 'expenses': 94299, 'loan_advances': 'NaN', 'from_messages': 29, 'other': 1740, 'from_this_person_to_poi': 1, 'poi': False, 'director_fees': 'NaN', 'deferred_income': 'NaN', 'long_term_incentive': 'NaN', 'email_address': 'mark.metts@enron.com', 'from_poi_to_this_person': 38}\n"
     ]
    }
   ],
   "source": [
    "print data_dict['METTS MARK']"
   ]
  },
  {
   "cell_type": "code",
   "execution_count": 4,
   "metadata": {
    "collapsed": false
   },
   "outputs": [
    {
     "name": "stdout",
     "output_type": "stream",
     "text": [
      "there are 20 features\n",
      "there are 146 executives in this data\n"
     ]
    }
   ],
   "source": [
    "print \"there are {} features\".format(len(data_dict['METTS MARK']) - 1)\n",
    "print \"there are\", len(data_dict.keys()), \"executives in this data\""
   ]
  },
  {
   "cell_type": "markdown",
   "metadata": {
    "deletable": true,
    "editable": true
   },
   "source": [
    "## Feature selection"
   ]
  },
  {
   "cell_type": "code",
   "execution_count": 5,
   "metadata": {
    "collapsed": false,
    "deletable": true,
    "editable": true
   },
   "outputs": [
    {
     "name": "stdout",
     "output_type": "stream",
     "text": [
      "feature salary has 95 None NaN\n",
      "feature to_messages has 86 None NaN\n",
      "feature deferral_payments has 39 None NaN\n",
      "feature total_payments has 125 None NaN\n",
      "feature exercised_stock_options has 102 None NaN\n",
      "feature bonus has 82 None NaN\n",
      "feature restricted_stock has 110 None NaN\n",
      "feature restricted_stock_deferred has 18 None NaN\n",
      "feature loan_advances has 4 None NaN\n",
      "feature deferred_income has 49 None NaN\n",
      "feature total_stock_value has 126 None NaN\n",
      "feature expenses has 95 None NaN\n",
      "feature other has 93 None NaN\n",
      "feature long_term_incentive has 66 None NaN\n",
      "feature director_fees has 17 None NaN\n",
      "feature from_poi_to_this_person has 86 None NaN\n",
      "feature from_messages has 86 None NaN\n",
      "feature from_this_person_to_poi has 86 None NaN\n",
      "feature shared_receipt_with_poi has 86 None NaN\n",
      "feature email_address has 111 None NaN\n",
      "label poi has 146 None NaN\n"
     ]
    }
   ],
   "source": [
    "label_list = ['poi']\n",
    "features_list = ['salary','to_messages', 'deferral_payments', 'total_payments', 'exercised_stock_options',\\\n",
    "                 'bonus', 'restricted_stock','restricted_stock_deferred', 'loan_advances',\\\n",
    "                'deferred_income','total_stock_value', 'expenses', 'other', 'long_term_incentive',\\\n",
    "                 'director_fees', 'from_poi_to_this_person', 'from_messages',\\\n",
    "                'from_this_person_to_poi','shared_receipt_with_poi', 'email_address'] \n",
    "\n",
    "df=pd.DataFrame.from_records(list(data_dict.values()))\n",
    "df.head()\n",
    "\n",
    "cnt = [0]*20\n",
    "\n",
    "for i, feature in enumerate(features_list):\n",
    "    for j in df[feature]:\n",
    "        if j != \"NaN\":\n",
    "            cnt[i] += 1\n",
    "            \n",
    "for i, feature in enumerate(features_list):\n",
    "    print \"feature {} has {} None NaN\".format(feature, cnt[i])\n",
    "\n",
    "count = 0\n",
    "for i in df['poi']:\n",
    "    if i != \"NaN\":\n",
    "        count += 1 \n",
    "print \"label poi has {} None NaN\".format(count)\n"
   ]
  },
  {
   "cell_type": "code",
   "execution_count": 6,
   "metadata": {
    "collapsed": false
   },
   "outputs": [
    {
     "name": "stdout",
     "output_type": "stream",
     "text": [
      "['deferral_payments', 'restricted_stock_deferred', 'loan_advances', 'deferred_income', 'long_term_incentive', 'director_fees']\n",
      "<class 'pandas.core.frame.DataFrame'>\n",
      "RangeIndex: 146 entries, 0 to 145\n",
      "Data columns (total 14 columns):\n",
      "bonus                      146 non-null object\n",
      "exercised_stock_options    146 non-null object\n",
      "expenses                   146 non-null object\n",
      "from_messages              146 non-null object\n",
      "from_poi_to_this_person    146 non-null object\n",
      "from_this_person_to_poi    146 non-null object\n",
      "other                      146 non-null object\n",
      "poi                        146 non-null bool\n",
      "restricted_stock           146 non-null object\n",
      "salary                     146 non-null object\n",
      "shared_receipt_with_poi    146 non-null object\n",
      "to_messages                146 non-null object\n",
      "total_payments             146 non-null object\n",
      "total_stock_value          146 non-null object\n",
      "dtypes: bool(1), object(13)\n",
      "memory usage: 15.0+ KB\n"
     ]
    }
   ],
   "source": [
    "# drop feature with <= 80 non NAN\n",
    "droplist = []\n",
    "\n",
    "for i in xrange(len(cnt)-1):\n",
    "    if cnt[i] <= 80:\n",
    "        droplist.append(features_list[i])\n",
    "print droplist\n",
    "\n",
    "df.drop(droplist, axis = 1, inplace = True)\n",
    "df.drop(['email_address'], axis = 1, inplace = True)\n",
    "df.info()"
   ]
  },
  {
   "cell_type": "code",
   "execution_count": 7,
   "metadata": {
    "collapsed": false
   },
   "outputs": [],
   "source": [
    "# fill nan with o or replace \"NaN with 0\n",
    "df.replace(\"NaN\", 0, inplace = True)"
   ]
  },
  {
   "cell_type": "code",
   "execution_count": 8,
   "metadata": {
    "collapsed": false
   },
   "outputs": [
    {
     "data": {
      "text/html": [
       "<div>\n",
       "<style>\n",
       "    .dataframe thead tr:only-child th {\n",
       "        text-align: right;\n",
       "    }\n",
       "\n",
       "    .dataframe thead th {\n",
       "        text-align: left;\n",
       "    }\n",
       "\n",
       "    .dataframe tbody tr th {\n",
       "        vertical-align: top;\n",
       "    }\n",
       "</style>\n",
       "<table border=\"1\" class=\"dataframe\">\n",
       "  <thead>\n",
       "    <tr style=\"text-align: right;\">\n",
       "      <th></th>\n",
       "      <th>bonus</th>\n",
       "      <th>exercised_stock_options</th>\n",
       "      <th>expenses</th>\n",
       "      <th>from_messages</th>\n",
       "      <th>from_poi_to_this_person</th>\n",
       "      <th>from_this_person_to_poi</th>\n",
       "      <th>other</th>\n",
       "      <th>restricted_stock</th>\n",
       "      <th>salary</th>\n",
       "      <th>shared_receipt_with_poi</th>\n",
       "      <th>to_messages</th>\n",
       "      <th>total_payments</th>\n",
       "      <th>total_stock_value</th>\n",
       "    </tr>\n",
       "  </thead>\n",
       "  <tbody>\n",
       "    <tr>\n",
       "      <th>count</th>\n",
       "      <td>1.460000e+02</td>\n",
       "      <td>1.460000e+02</td>\n",
       "      <td>1.460000e+02</td>\n",
       "      <td>146.000000</td>\n",
       "      <td>146.000000</td>\n",
       "      <td>146.000000</td>\n",
       "      <td>1.460000e+02</td>\n",
       "      <td>1.460000e+02</td>\n",
       "      <td>1.460000e+02</td>\n",
       "      <td>146.000000</td>\n",
       "      <td>146.000000</td>\n",
       "      <td>1.460000e+02</td>\n",
       "      <td>1.460000e+02</td>\n",
       "    </tr>\n",
       "    <tr>\n",
       "      <th>mean</th>\n",
       "      <td>1.333474e+06</td>\n",
       "      <td>4.182736e+06</td>\n",
       "      <td>7.074827e+04</td>\n",
       "      <td>358.602740</td>\n",
       "      <td>38.226027</td>\n",
       "      <td>24.287671</td>\n",
       "      <td>5.854318e+05</td>\n",
       "      <td>1.749257e+06</td>\n",
       "      <td>3.658114e+05</td>\n",
       "      <td>692.986301</td>\n",
       "      <td>1221.589041</td>\n",
       "      <td>4.350622e+06</td>\n",
       "      <td>5.846018e+06</td>\n",
       "    </tr>\n",
       "    <tr>\n",
       "      <th>std</th>\n",
       "      <td>8.094029e+06</td>\n",
       "      <td>2.607040e+07</td>\n",
       "      <td>4.327163e+05</td>\n",
       "      <td>1441.259868</td>\n",
       "      <td>73.901124</td>\n",
       "      <td>79.278206</td>\n",
       "      <td>3.682345e+06</td>\n",
       "      <td>1.089995e+07</td>\n",
       "      <td>2.203575e+06</td>\n",
       "      <td>1072.969492</td>\n",
       "      <td>2226.770637</td>\n",
       "      <td>2.693448e+07</td>\n",
       "      <td>3.624681e+07</td>\n",
       "    </tr>\n",
       "    <tr>\n",
       "      <th>min</th>\n",
       "      <td>0.000000e+00</td>\n",
       "      <td>0.000000e+00</td>\n",
       "      <td>0.000000e+00</td>\n",
       "      <td>0.000000</td>\n",
       "      <td>0.000000</td>\n",
       "      <td>0.000000</td>\n",
       "      <td>0.000000e+00</td>\n",
       "      <td>-2.604490e+06</td>\n",
       "      <td>0.000000e+00</td>\n",
       "      <td>0.000000</td>\n",
       "      <td>0.000000</td>\n",
       "      <td>0.000000e+00</td>\n",
       "      <td>-4.409300e+04</td>\n",
       "    </tr>\n",
       "    <tr>\n",
       "      <th>25%</th>\n",
       "      <td>0.000000e+00</td>\n",
       "      <td>0.000000e+00</td>\n",
       "      <td>0.000000e+00</td>\n",
       "      <td>0.000000</td>\n",
       "      <td>0.000000</td>\n",
       "      <td>0.000000</td>\n",
       "      <td>0.000000e+00</td>\n",
       "      <td>8.115000e+03</td>\n",
       "      <td>0.000000e+00</td>\n",
       "      <td>0.000000</td>\n",
       "      <td>0.000000</td>\n",
       "      <td>9.394475e+04</td>\n",
       "      <td>2.288695e+05</td>\n",
       "    </tr>\n",
       "    <tr>\n",
       "      <th>50%</th>\n",
       "      <td>3.000000e+05</td>\n",
       "      <td>6.082935e+05</td>\n",
       "      <td>2.018200e+04</td>\n",
       "      <td>16.500000</td>\n",
       "      <td>2.500000</td>\n",
       "      <td>0.000000</td>\n",
       "      <td>9.595000e+02</td>\n",
       "      <td>3.605280e+05</td>\n",
       "      <td>2.105960e+05</td>\n",
       "      <td>102.500000</td>\n",
       "      <td>289.000000</td>\n",
       "      <td>9.413595e+05</td>\n",
       "      <td>9.659550e+05</td>\n",
       "    </tr>\n",
       "    <tr>\n",
       "      <th>75%</th>\n",
       "      <td>8.000000e+05</td>\n",
       "      <td>1.714221e+06</td>\n",
       "      <td>5.374075e+04</td>\n",
       "      <td>51.250000</td>\n",
       "      <td>40.750000</td>\n",
       "      <td>13.750000</td>\n",
       "      <td>1.506065e+05</td>\n",
       "      <td>8.145280e+05</td>\n",
       "      <td>2.708505e+05</td>\n",
       "      <td>893.500000</td>\n",
       "      <td>1585.750000</td>\n",
       "      <td>1.968287e+06</td>\n",
       "      <td>2.319991e+06</td>\n",
       "    </tr>\n",
       "    <tr>\n",
       "      <th>max</th>\n",
       "      <td>9.734362e+07</td>\n",
       "      <td>3.117640e+08</td>\n",
       "      <td>5.235198e+06</td>\n",
       "      <td>14368.000000</td>\n",
       "      <td>528.000000</td>\n",
       "      <td>609.000000</td>\n",
       "      <td>4.266759e+07</td>\n",
       "      <td>1.303223e+08</td>\n",
       "      <td>2.670423e+07</td>\n",
       "      <td>5521.000000</td>\n",
       "      <td>15149.000000</td>\n",
       "      <td>3.098866e+08</td>\n",
       "      <td>4.345095e+08</td>\n",
       "    </tr>\n",
       "  </tbody>\n",
       "</table>\n",
       "</div>"
      ],
      "text/plain": [
       "              bonus  exercised_stock_options      expenses  from_messages  \\\n",
       "count  1.460000e+02             1.460000e+02  1.460000e+02     146.000000   \n",
       "mean   1.333474e+06             4.182736e+06  7.074827e+04     358.602740   \n",
       "std    8.094029e+06             2.607040e+07  4.327163e+05    1441.259868   \n",
       "min    0.000000e+00             0.000000e+00  0.000000e+00       0.000000   \n",
       "25%    0.000000e+00             0.000000e+00  0.000000e+00       0.000000   \n",
       "50%    3.000000e+05             6.082935e+05  2.018200e+04      16.500000   \n",
       "75%    8.000000e+05             1.714221e+06  5.374075e+04      51.250000   \n",
       "max    9.734362e+07             3.117640e+08  5.235198e+06   14368.000000   \n",
       "\n",
       "       from_poi_to_this_person  from_this_person_to_poi         other  \\\n",
       "count               146.000000               146.000000  1.460000e+02   \n",
       "mean                 38.226027                24.287671  5.854318e+05   \n",
       "std                  73.901124                79.278206  3.682345e+06   \n",
       "min                   0.000000                 0.000000  0.000000e+00   \n",
       "25%                   0.000000                 0.000000  0.000000e+00   \n",
       "50%                   2.500000                 0.000000  9.595000e+02   \n",
       "75%                  40.750000                13.750000  1.506065e+05   \n",
       "max                 528.000000               609.000000  4.266759e+07   \n",
       "\n",
       "       restricted_stock        salary  shared_receipt_with_poi   to_messages  \\\n",
       "count      1.460000e+02  1.460000e+02               146.000000    146.000000   \n",
       "mean       1.749257e+06  3.658114e+05               692.986301   1221.589041   \n",
       "std        1.089995e+07  2.203575e+06              1072.969492   2226.770637   \n",
       "min       -2.604490e+06  0.000000e+00                 0.000000      0.000000   \n",
       "25%        8.115000e+03  0.000000e+00                 0.000000      0.000000   \n",
       "50%        3.605280e+05  2.105960e+05               102.500000    289.000000   \n",
       "75%        8.145280e+05  2.708505e+05               893.500000   1585.750000   \n",
       "max        1.303223e+08  2.670423e+07              5521.000000  15149.000000   \n",
       "\n",
       "       total_payments  total_stock_value  \n",
       "count    1.460000e+02       1.460000e+02  \n",
       "mean     4.350622e+06       5.846018e+06  \n",
       "std      2.693448e+07       3.624681e+07  \n",
       "min      0.000000e+00      -4.409300e+04  \n",
       "25%      9.394475e+04       2.288695e+05  \n",
       "50%      9.413595e+05       9.659550e+05  \n",
       "75%      1.968287e+06       2.319991e+06  \n",
       "max      3.098866e+08       4.345095e+08  "
      ]
     },
     "execution_count": 8,
     "metadata": {},
     "output_type": "execute_result"
    }
   ],
   "source": [
    "df.describe()"
   ]
  },
  {
   "cell_type": "code",
   "execution_count": 9,
   "metadata": {
    "collapsed": false
   },
   "outputs": [
    {
     "name": "stdout",
     "output_type": "stream",
     "text": [
      "<class 'pandas.core.frame.DataFrame'>\n",
      "Int64Index: 144 entries, 0 to 145\n",
      "Data columns (total 14 columns):\n",
      "bonus                      144 non-null int64\n",
      "exercised_stock_options    144 non-null int64\n",
      "expenses                   144 non-null int64\n",
      "from_messages              144 non-null int64\n",
      "from_poi_to_this_person    144 non-null int64\n",
      "from_this_person_to_poi    144 non-null int64\n",
      "other                      144 non-null int64\n",
      "poi                        144 non-null bool\n",
      "restricted_stock           144 non-null int64\n",
      "salary                     144 non-null int64\n",
      "shared_receipt_with_poi    144 non-null int64\n",
      "to_messages                144 non-null int64\n",
      "total_payments             144 non-null int64\n",
      "total_stock_value          144 non-null int64\n",
      "dtypes: bool(1), int64(13)\n",
      "memory usage: 15.9 KB\n",
      "How many POIs:\t18\n",
      "How many nonPOIs:\t126\n"
     ]
    }
   ],
   "source": [
    "id_1 = data_dict.keys().index('TOTAL')\n",
    "id_2 = data_dict.keys().index('THE TRAVEL AGENCY IN THE PARK')\n",
    "\n",
    "df_c = df.drop(df.index[[id_1, id_2]])\n",
    "df_c.info()\n",
    "\n",
    "print \"How many POIs:\\t\",(df_c['poi']== True).sum()\n",
    "print \"How many nonPOIs:\\t\",(df_c['poi']== False).sum()"
   ]
  },
  {
   "cell_type": "code",
   "execution_count": 10,
   "metadata": {
    "collapsed": false
   },
   "outputs": [
    {
     "data": {
      "image/png": "[encoded data removed]",
      "text/plain": [
       "<matplotlib.figure.Figure at 0x7fc8b1cd0550>"
      ]
     },
     "metadata": {},
     "output_type": "display_data"
    },
    {
     "data": {
      "image/png": "[encoded data removed]",
      "text/plain": [
       "<matplotlib.figure.Figure at 0x7fc8b1d01790>"
      ]
     },
     "metadata": {},
     "output_type": "display_data"
    },
    {
     "data": {
      "image/png": "[encoded data removed]",
      "text/plain": [
       "<matplotlib.figure.Figure at 0x7fc8ae2a97d0>"
      ]
     },
     "metadata": {},
     "output_type": "display_data"
    }
   ],
   "source": [
    "#visulization\n",
    "\n",
    "qlist = ['poi','exercised_stock_options','from_poi_to_this_person']\n",
    "qlist1 = ['poi','restricted_stock','shared_receipt_with_poi']\n",
    "qlist2 = ['poi', 'from_poi_to_this_person', 'from_this_person_to_poi']\n",
    "\n",
    "def drawXY(df,qlist):\n",
    "    n = len(df)\n",
    "    X = df[qlist[1]]\n",
    "    Y = df[qlist[2]]\n",
    "    rind = np.nonzero(df[qlist[0]])[0]\n",
    "    plt.scatter(X,Y,color='blue')\n",
    "    plt.scatter(X[rind],Y[rind],color='red') #if POIs, label red          \n",
    "    plt.xlabel(qlist[1])\n",
    "    plt.ylabel(qlist[2])\n",
    "    plt.show()\n",
    "\n",
    "drawXY(df_c, qlist)\n",
    "drawXY(df_c, qlist1)\n",
    "drawXY(df_c, qlist2)\n"
   ]
  },
  {
   "cell_type": "markdown",
   "metadata": {
    "deletable": true,
    "editable": true
   },
   "source": [
    "## Outliers Removal"
   ]
  },
  {
   "cell_type": "markdown",
   "metadata": {
    "deletable": true,
    "editable": true
   },
   "source": [
    "## Create New Features\n"
   ]
  },
  {
   "cell_type": "code",
   "execution_count": 11,
   "metadata": {
    "collapsed": false
   },
   "outputs": [
    {
     "data": {
      "text/html": [
       "<div>\n",
       "<style>\n",
       "    .dataframe thead tr:only-child th {\n",
       "        text-align: right;\n",
       "    }\n",
       "\n",
       "    .dataframe thead th {\n",
       "        text-align: left;\n",
       "    }\n",
       "\n",
       "    .dataframe tbody tr th {\n",
       "        vertical-align: top;\n",
       "    }\n",
       "</style>\n",
       "<table border=\"1\" class=\"dataframe\">\n",
       "  <thead>\n",
       "    <tr style=\"text-align: right;\">\n",
       "      <th></th>\n",
       "      <th>bonus</th>\n",
       "      <th>exercised_stock_options</th>\n",
       "      <th>expenses</th>\n",
       "      <th>from_messages</th>\n",
       "      <th>from_poi_to_this_person</th>\n",
       "      <th>from_this_person_to_poi</th>\n",
       "      <th>other</th>\n",
       "      <th>restricted_stock</th>\n",
       "      <th>salary</th>\n",
       "      <th>shared_receipt_with_poi</th>\n",
       "      <th>to_messages</th>\n",
       "      <th>total_payments</th>\n",
       "      <th>total_stock_value</th>\n",
       "      <th>fraction_to_poi</th>\n",
       "      <th>fraction_from_poi</th>\n",
       "    </tr>\n",
       "  </thead>\n",
       "  <tbody>\n",
       "    <tr>\n",
       "      <th>count</th>\n",
       "      <td>1.440000e+02</td>\n",
       "      <td>1.440000e+02</td>\n",
       "      <td>144.000000</td>\n",
       "      <td>144.000000</td>\n",
       "      <td>144.000000</td>\n",
       "      <td>144.000000</td>\n",
       "      <td>1.440000e+02</td>\n",
       "      <td>1.440000e+02</td>\n",
       "      <td>1.440000e+02</td>\n",
       "      <td>144.000000</td>\n",
       "      <td>144.000000</td>\n",
       "      <td>1.440000e+02</td>\n",
       "      <td>1.440000e+02</td>\n",
       "      <td>86.000000</td>\n",
       "      <td>86.000000</td>\n",
       "    </tr>\n",
       "    <tr>\n",
       "      <th>mean</th>\n",
       "      <td>6.759974e+05</td>\n",
       "      <td>2.075802e+06</td>\n",
       "      <td>35375.340278</td>\n",
       "      <td>363.583333</td>\n",
       "      <td>38.756944</td>\n",
       "      <td>24.625000</td>\n",
       "      <td>2.947455e+05</td>\n",
       "      <td>8.685363e+05</td>\n",
       "      <td>1.854460e+05</td>\n",
       "      <td>702.611111</td>\n",
       "      <td>1238.555556</td>\n",
       "      <td>2.256543e+06</td>\n",
       "      <td>2.909786e+06</td>\n",
       "      <td>18.405548</td>\n",
       "      <td>3.796298</td>\n",
       "    </tr>\n",
       "    <tr>\n",
       "      <th>std</th>\n",
       "      <td>1.233155e+06</td>\n",
       "      <td>4.795513e+06</td>\n",
       "      <td>45309.303038</td>\n",
       "      <td>1450.675239</td>\n",
       "      <td>74.276769</td>\n",
       "      <td>79.778266</td>\n",
       "      <td>1.131325e+06</td>\n",
       "      <td>2.016572e+06</td>\n",
       "      <td>1.970421e+05</td>\n",
       "      <td>1077.290736</td>\n",
       "      <td>2237.564816</td>\n",
       "      <td>8.847189e+06</td>\n",
       "      <td>6.189018e+06</td>\n",
       "      <td>21.061035</td>\n",
       "      <td>4.054439</td>\n",
       "    </tr>\n",
       "    <tr>\n",
       "      <th>min</th>\n",
       "      <td>0.000000e+00</td>\n",
       "      <td>0.000000e+00</td>\n",
       "      <td>0.000000</td>\n",
       "      <td>0.000000</td>\n",
       "      <td>0.000000</td>\n",
       "      <td>0.000000</td>\n",
       "      <td>0.000000e+00</td>\n",
       "      <td>-2.604490e+06</td>\n",
       "      <td>0.000000e+00</td>\n",
       "      <td>0.000000</td>\n",
       "      <td>0.000000</td>\n",
       "      <td>0.000000e+00</td>\n",
       "      <td>-4.409300e+04</td>\n",
       "      <td>0.000000</td>\n",
       "      <td>0.000000</td>\n",
       "    </tr>\n",
       "    <tr>\n",
       "      <th>25%</th>\n",
       "      <td>0.000000e+00</td>\n",
       "      <td>0.000000e+00</td>\n",
       "      <td>0.000000</td>\n",
       "      <td>0.000000</td>\n",
       "      <td>0.000000</td>\n",
       "      <td>0.000000</td>\n",
       "      <td>0.000000e+00</td>\n",
       "      <td>2.434500e+04</td>\n",
       "      <td>0.000000e+00</td>\n",
       "      <td>0.000000</td>\n",
       "      <td>0.000000</td>\n",
       "      <td>9.019275e+04</td>\n",
       "      <td>2.443265e+05</td>\n",
       "      <td>1.242096</td>\n",
       "      <td>0.919988</td>\n",
       "    </tr>\n",
       "    <tr>\n",
       "      <th>50%</th>\n",
       "      <td>3.000000e+05</td>\n",
       "      <td>6.082935e+05</td>\n",
       "      <td>20182.000000</td>\n",
       "      <td>17.500000</td>\n",
       "      <td>4.000000</td>\n",
       "      <td>0.000000</td>\n",
       "      <td>9.190000e+02</td>\n",
       "      <td>3.605280e+05</td>\n",
       "      <td>2.105960e+05</td>\n",
       "      <td>114.000000</td>\n",
       "      <td>347.500000</td>\n",
       "      <td>9.413595e+05</td>\n",
       "      <td>9.659550e+05</td>\n",
       "      <td>10.057359</td>\n",
       "      <td>2.584537</td>\n",
       "    </tr>\n",
       "    <tr>\n",
       "      <th>75%</th>\n",
       "      <td>8.000000e+05</td>\n",
       "      <td>1.683580e+06</td>\n",
       "      <td>53328.250000</td>\n",
       "      <td>53.000000</td>\n",
       "      <td>41.250000</td>\n",
       "      <td>14.000000</td>\n",
       "      <td>1.485770e+05</td>\n",
       "      <td>7.374560e+05</td>\n",
       "      <td>2.696675e+05</td>\n",
       "      <td>933.750000</td>\n",
       "      <td>1623.000000</td>\n",
       "      <td>1.945668e+06</td>\n",
       "      <td>2.295176e+06</td>\n",
       "      <td>27.203947</td>\n",
       "      <td>5.608871</td>\n",
       "    </tr>\n",
       "    <tr>\n",
       "      <th>max</th>\n",
       "      <td>8.000000e+06</td>\n",
       "      <td>3.434838e+07</td>\n",
       "      <td>228763.000000</td>\n",
       "      <td>14368.000000</td>\n",
       "      <td>528.000000</td>\n",
       "      <td>609.000000</td>\n",
       "      <td>1.035973e+07</td>\n",
       "      <td>1.476169e+07</td>\n",
       "      <td>1.111258e+06</td>\n",
       "      <td>5521.000000</td>\n",
       "      <td>15149.000000</td>\n",
       "      <td>1.035598e+08</td>\n",
       "      <td>4.911008e+07</td>\n",
       "      <td>100.000000</td>\n",
       "      <td>21.734104</td>\n",
       "    </tr>\n",
       "  </tbody>\n",
       "</table>\n",
       "</div>"
      ],
      "text/plain": [
       "              bonus  exercised_stock_options       expenses  from_messages  \\\n",
       "count  1.440000e+02             1.440000e+02     144.000000     144.000000   \n",
       "mean   6.759974e+05             2.075802e+06   35375.340278     363.583333   \n",
       "std    1.233155e+06             4.795513e+06   45309.303038    1450.675239   \n",
       "min    0.000000e+00             0.000000e+00       0.000000       0.000000   \n",
       "25%    0.000000e+00             0.000000e+00       0.000000       0.000000   \n",
       "50%    3.000000e+05             6.082935e+05   20182.000000      17.500000   \n",
       "75%    8.000000e+05             1.683580e+06   53328.250000      53.000000   \n",
       "max    8.000000e+06             3.434838e+07  228763.000000   14368.000000   \n",
       "\n",
       "       from_poi_to_this_person  from_this_person_to_poi         other  \\\n",
       "count               144.000000               144.000000  1.440000e+02   \n",
       "mean                 38.756944                24.625000  2.947455e+05   \n",
       "std                  74.276769                79.778266  1.131325e+06   \n",
       "min                   0.000000                 0.000000  0.000000e+00   \n",
       "25%                   0.000000                 0.000000  0.000000e+00   \n",
       "50%                   4.000000                 0.000000  9.190000e+02   \n",
       "75%                  41.250000                14.000000  1.485770e+05   \n",
       "max                 528.000000               609.000000  1.035973e+07   \n",
       "\n",
       "       restricted_stock        salary  shared_receipt_with_poi   to_messages  \\\n",
       "count      1.440000e+02  1.440000e+02               144.000000    144.000000   \n",
       "mean       8.685363e+05  1.854460e+05               702.611111   1238.555556   \n",
       "std        2.016572e+06  1.970421e+05              1077.290736   2237.564816   \n",
       "min       -2.604490e+06  0.000000e+00                 0.000000      0.000000   \n",
       "25%        2.434500e+04  0.000000e+00                 0.000000      0.000000   \n",
       "50%        3.605280e+05  2.105960e+05               114.000000    347.500000   \n",
       "75%        7.374560e+05  2.696675e+05               933.750000   1623.000000   \n",
       "max        1.476169e+07  1.111258e+06              5521.000000  15149.000000   \n",
       "\n",
       "       total_payments  total_stock_value  fraction_to_poi  fraction_from_poi  \n",
       "count    1.440000e+02       1.440000e+02        86.000000          86.000000  \n",
       "mean     2.256543e+06       2.909786e+06        18.405548           3.796298  \n",
       "std      8.847189e+06       6.189018e+06        21.061035           4.054439  \n",
       "min      0.000000e+00      -4.409300e+04         0.000000           0.000000  \n",
       "25%      9.019275e+04       2.443265e+05         1.242096           0.919988  \n",
       "50%      9.413595e+05       9.659550e+05        10.057359           2.584537  \n",
       "75%      1.945668e+06       2.295176e+06        27.203947           5.608871  \n",
       "max      1.035598e+08       4.911008e+07       100.000000          21.734104  "
      ]
     },
     "execution_count": 11,
     "metadata": {},
     "output_type": "execute_result"
    }
   ],
   "source": [
    "# new features\n",
    "df_c['fraction_to_poi'] = (df_c['from_this_person_to_poi']) / (df_c['from_messages']) * 100\n",
    "df_c['fraction_from_poi'] = (df_c['from_poi_to_this_person']) / (df_c['to_messages']) * 100\n",
    "df_c.describe()"
   ]
  },
  {
   "cell_type": "code",
   "execution_count": 12,
   "metadata": {
    "collapsed": false
   },
   "outputs": [
    {
     "name": "stdout",
     "output_type": "stream",
     "text": [
      "<class 'pandas.core.frame.DataFrame'>\n",
      "Int64Index: 144 entries, 0 to 145\n",
      "Data columns (total 16 columns):\n",
      "bonus                      144 non-null int64\n",
      "exercised_stock_options    144 non-null int64\n",
      "expenses                   144 non-null int64\n",
      "from_messages              144 non-null int64\n",
      "from_poi_to_this_person    144 non-null int64\n",
      "from_this_person_to_poi    144 non-null int64\n",
      "other                      144 non-null int64\n",
      "poi                        144 non-null bool\n",
      "restricted_stock           144 non-null int64\n",
      "salary                     144 non-null int64\n",
      "shared_receipt_with_poi    144 non-null int64\n",
      "to_messages                144 non-null int64\n",
      "total_payments             144 non-null int64\n",
      "total_stock_value          144 non-null int64\n",
      "fraction_to_poi            86 non-null float64\n",
      "fraction_from_poi          86 non-null float64\n",
      "dtypes: bool(1), float64(2), int64(13)\n",
      "memory usage: 23.1 KB\n"
     ]
    }
   ],
   "source": [
    "df_c.info()"
   ]
  },
  {
   "cell_type": "code",
   "execution_count": 13,
   "metadata": {
    "collapsed": false
   },
   "outputs": [],
   "source": [
    "#scaling\n",
    "min_max_scaler = MinMaxScaler(feature_range=(0,100),copy = True)\n",
    "df_s = df_c.fillna(0)\n",
    "df_s['fraction_to_poi'].fillna(0, inplace = True) # not sure why the previous step does not include this column "
   ]
  },
  {
   "cell_type": "code",
   "execution_count": 14,
   "metadata": {
    "collapsed": false
   },
   "outputs": [
    {
     "data": {
      "text/html": [
       "<div>\n",
       "<style>\n",
       "    .dataframe thead tr:only-child th {\n",
       "        text-align: right;\n",
       "    }\n",
       "\n",
       "    .dataframe thead th {\n",
       "        text-align: left;\n",
       "    }\n",
       "\n",
       "    .dataframe tbody tr th {\n",
       "        vertical-align: top;\n",
       "    }\n",
       "</style>\n",
       "<table border=\"1\" class=\"dataframe\">\n",
       "  <thead>\n",
       "    <tr style=\"text-align: right;\">\n",
       "      <th></th>\n",
       "      <th>bonus</th>\n",
       "      <th>exercised_stock_options</th>\n",
       "      <th>expenses</th>\n",
       "      <th>from_messages</th>\n",
       "      <th>from_poi_to_this_person</th>\n",
       "      <th>from_this_person_to_poi</th>\n",
       "      <th>other</th>\n",
       "      <th>restricted_stock</th>\n",
       "      <th>salary</th>\n",
       "      <th>shared_receipt_with_poi</th>\n",
       "      <th>to_messages</th>\n",
       "      <th>total_payments</th>\n",
       "      <th>total_stock_value</th>\n",
       "      <th>fraction_to_poi</th>\n",
       "      <th>fraction_from_poi</th>\n",
       "    </tr>\n",
       "  </thead>\n",
       "  <tbody>\n",
       "    <tr>\n",
       "      <th>count</th>\n",
       "      <td>1.440000e+02</td>\n",
       "      <td>1.440000e+02</td>\n",
       "      <td>144.000000</td>\n",
       "      <td>144.000000</td>\n",
       "      <td>144.000000</td>\n",
       "      <td>144.000000</td>\n",
       "      <td>1.440000e+02</td>\n",
       "      <td>1.440000e+02</td>\n",
       "      <td>1.440000e+02</td>\n",
       "      <td>144.000000</td>\n",
       "      <td>144.000000</td>\n",
       "      <td>1.440000e+02</td>\n",
       "      <td>1.440000e+02</td>\n",
       "      <td>144.000000</td>\n",
       "      <td>144.000000</td>\n",
       "    </tr>\n",
       "    <tr>\n",
       "      <th>mean</th>\n",
       "      <td>6.759974e+05</td>\n",
       "      <td>2.075802e+06</td>\n",
       "      <td>35375.340278</td>\n",
       "      <td>363.583333</td>\n",
       "      <td>38.756944</td>\n",
       "      <td>24.625000</td>\n",
       "      <td>2.947455e+05</td>\n",
       "      <td>8.685363e+05</td>\n",
       "      <td>1.854460e+05</td>\n",
       "      <td>702.611111</td>\n",
       "      <td>1238.555556</td>\n",
       "      <td>2.256543e+06</td>\n",
       "      <td>2.909786e+06</td>\n",
       "      <td>10.992202</td>\n",
       "      <td>2.267233</td>\n",
       "    </tr>\n",
       "    <tr>\n",
       "      <th>std</th>\n",
       "      <td>1.233155e+06</td>\n",
       "      <td>4.795513e+06</td>\n",
       "      <td>45309.303038</td>\n",
       "      <td>1450.675239</td>\n",
       "      <td>74.276769</td>\n",
       "      <td>79.778266</td>\n",
       "      <td>1.131325e+06</td>\n",
       "      <td>2.016572e+06</td>\n",
       "      <td>1.970421e+05</td>\n",
       "      <td>1077.290736</td>\n",
       "      <td>2237.564816</td>\n",
       "      <td>8.847189e+06</td>\n",
       "      <td>6.189018e+06</td>\n",
       "      <td>18.593484</td>\n",
       "      <td>3.641718</td>\n",
       "    </tr>\n",
       "    <tr>\n",
       "      <th>min</th>\n",
       "      <td>0.000000e+00</td>\n",
       "      <td>0.000000e+00</td>\n",
       "      <td>0.000000</td>\n",
       "      <td>0.000000</td>\n",
       "      <td>0.000000</td>\n",
       "      <td>0.000000</td>\n",
       "      <td>0.000000e+00</td>\n",
       "      <td>-2.604490e+06</td>\n",
       "      <td>0.000000e+00</td>\n",
       "      <td>0.000000</td>\n",
       "      <td>0.000000</td>\n",
       "      <td>0.000000e+00</td>\n",
       "      <td>-4.409300e+04</td>\n",
       "      <td>0.000000</td>\n",
       "      <td>0.000000</td>\n",
       "    </tr>\n",
       "    <tr>\n",
       "      <th>25%</th>\n",
       "      <td>0.000000e+00</td>\n",
       "      <td>0.000000e+00</td>\n",
       "      <td>0.000000</td>\n",
       "      <td>0.000000</td>\n",
       "      <td>0.000000</td>\n",
       "      <td>0.000000</td>\n",
       "      <td>0.000000e+00</td>\n",
       "      <td>2.434500e+04</td>\n",
       "      <td>0.000000e+00</td>\n",
       "      <td>0.000000</td>\n",
       "      <td>0.000000</td>\n",
       "      <td>9.019275e+04</td>\n",
       "      <td>2.443265e+05</td>\n",
       "      <td>0.000000</td>\n",
       "      <td>0.000000</td>\n",
       "    </tr>\n",
       "    <tr>\n",
       "      <th>50%</th>\n",
       "      <td>3.000000e+05</td>\n",
       "      <td>6.082935e+05</td>\n",
       "      <td>20182.000000</td>\n",
       "      <td>17.500000</td>\n",
       "      <td>4.000000</td>\n",
       "      <td>0.000000</td>\n",
       "      <td>9.190000e+02</td>\n",
       "      <td>3.605280e+05</td>\n",
       "      <td>2.105960e+05</td>\n",
       "      <td>114.000000</td>\n",
       "      <td>347.500000</td>\n",
       "      <td>9.413595e+05</td>\n",
       "      <td>9.659550e+05</td>\n",
       "      <td>0.000000</td>\n",
       "      <td>0.495153</td>\n",
       "    </tr>\n",
       "    <tr>\n",
       "      <th>75%</th>\n",
       "      <td>8.000000e+05</td>\n",
       "      <td>1.683580e+06</td>\n",
       "      <td>53328.250000</td>\n",
       "      <td>53.000000</td>\n",
       "      <td>41.250000</td>\n",
       "      <td>14.000000</td>\n",
       "      <td>1.485770e+05</td>\n",
       "      <td>7.374560e+05</td>\n",
       "      <td>2.696675e+05</td>\n",
       "      <td>933.750000</td>\n",
       "      <td>1623.000000</td>\n",
       "      <td>1.945668e+06</td>\n",
       "      <td>2.295176e+06</td>\n",
       "      <td>19.882698</td>\n",
       "      <td>2.991807</td>\n",
       "    </tr>\n",
       "    <tr>\n",
       "      <th>max</th>\n",
       "      <td>8.000000e+06</td>\n",
       "      <td>3.434838e+07</td>\n",
       "      <td>228763.000000</td>\n",
       "      <td>14368.000000</td>\n",
       "      <td>528.000000</td>\n",
       "      <td>609.000000</td>\n",
       "      <td>1.035973e+07</td>\n",
       "      <td>1.476169e+07</td>\n",
       "      <td>1.111258e+06</td>\n",
       "      <td>5521.000000</td>\n",
       "      <td>15149.000000</td>\n",
       "      <td>1.035598e+08</td>\n",
       "      <td>4.911008e+07</td>\n",
       "      <td>100.000000</td>\n",
       "      <td>21.734104</td>\n",
       "    </tr>\n",
       "  </tbody>\n",
       "</table>\n",
       "</div>"
      ],
      "text/plain": [
       "              bonus  exercised_stock_options       expenses  from_messages  \\\n",
       "count  1.440000e+02             1.440000e+02     144.000000     144.000000   \n",
       "mean   6.759974e+05             2.075802e+06   35375.340278     363.583333   \n",
       "std    1.233155e+06             4.795513e+06   45309.303038    1450.675239   \n",
       "min    0.000000e+00             0.000000e+00       0.000000       0.000000   \n",
       "25%    0.000000e+00             0.000000e+00       0.000000       0.000000   \n",
       "50%    3.000000e+05             6.082935e+05   20182.000000      17.500000   \n",
       "75%    8.000000e+05             1.683580e+06   53328.250000      53.000000   \n",
       "max    8.000000e+06             3.434838e+07  228763.000000   14368.000000   \n",
       "\n",
       "       from_poi_to_this_person  from_this_person_to_poi         other  \\\n",
       "count               144.000000               144.000000  1.440000e+02   \n",
       "mean                 38.756944                24.625000  2.947455e+05   \n",
       "std                  74.276769                79.778266  1.131325e+06   \n",
       "min                   0.000000                 0.000000  0.000000e+00   \n",
       "25%                   0.000000                 0.000000  0.000000e+00   \n",
       "50%                   4.000000                 0.000000  9.190000e+02   \n",
       "75%                  41.250000                14.000000  1.485770e+05   \n",
       "max                 528.000000               609.000000  1.035973e+07   \n",
       "\n",
       "       restricted_stock        salary  shared_receipt_with_poi   to_messages  \\\n",
       "count      1.440000e+02  1.440000e+02               144.000000    144.000000   \n",
       "mean       8.685363e+05  1.854460e+05               702.611111   1238.555556   \n",
       "std        2.016572e+06  1.970421e+05              1077.290736   2237.564816   \n",
       "min       -2.604490e+06  0.000000e+00                 0.000000      0.000000   \n",
       "25%        2.434500e+04  0.000000e+00                 0.000000      0.000000   \n",
       "50%        3.605280e+05  2.105960e+05               114.000000    347.500000   \n",
       "75%        7.374560e+05  2.696675e+05               933.750000   1623.000000   \n",
       "max        1.476169e+07  1.111258e+06              5521.000000  15149.000000   \n",
       "\n",
       "       total_payments  total_stock_value  fraction_to_poi  fraction_from_poi  \n",
       "count    1.440000e+02       1.440000e+02       144.000000         144.000000  \n",
       "mean     2.256543e+06       2.909786e+06        10.992202           2.267233  \n",
       "std      8.847189e+06       6.189018e+06        18.593484           3.641718  \n",
       "min      0.000000e+00      -4.409300e+04         0.000000           0.000000  \n",
       "25%      9.019275e+04       2.443265e+05         0.000000           0.000000  \n",
       "50%      9.413595e+05       9.659550e+05         0.000000           0.495153  \n",
       "75%      1.945668e+06       2.295176e+06        19.882698           2.991807  \n",
       "max      1.035598e+08       4.911008e+07       100.000000          21.734104  "
      ]
     },
     "execution_count": 14,
     "metadata": {},
     "output_type": "execute_result"
    }
   ],
   "source": [
    "df_s.describe()"
   ]
  },
  {
   "cell_type": "code",
   "execution_count": 15,
   "metadata": {
    "collapsed": false
   },
   "outputs": [
    {
     "name": "stdout",
     "output_type": "stream",
     "text": [
      "<class 'pandas.core.frame.DataFrame'>\n",
      "Int64Index: 144 entries, 0 to 145\n",
      "Data columns (total 16 columns):\n",
      "bonus                      144 non-null int64\n",
      "exercised_stock_options    144 non-null int64\n",
      "expenses                   144 non-null int64\n",
      "from_messages              144 non-null int64\n",
      "from_poi_to_this_person    144 non-null int64\n",
      "from_this_person_to_poi    144 non-null int64\n",
      "other                      144 non-null int64\n",
      "poi                        144 non-null bool\n",
      "restricted_stock           144 non-null int64\n",
      "salary                     144 non-null int64\n",
      "shared_receipt_with_poi    144 non-null int64\n",
      "to_messages                144 non-null int64\n",
      "total_payments             144 non-null int64\n",
      "total_stock_value          144 non-null int64\n",
      "fraction_to_poi            144 non-null float64\n",
      "fraction_from_poi          144 non-null float64\n",
      "dtypes: bool(1), float64(2), int64(13)\n",
      "memory usage: 23.1 KB\n"
     ]
    }
   ],
   "source": [
    "df_s.info()"
   ]
  },
  {
   "cell_type": "code",
   "execution_count": 16,
   "metadata": {
    "collapsed": false
   },
   "outputs": [
    {
     "data": {
      "text/plain": [
       "['bonus',\n",
       " 'exercised_stock_options',\n",
       " 'expenses',\n",
       " 'from_messages',\n",
       " 'from_poi_to_this_person',\n",
       " 'from_this_person_to_poi',\n",
       " 'other',\n",
       " 'poi',\n",
       " 'restricted_stock',\n",
       " 'salary',\n",
       " 'shared_receipt_with_poi',\n",
       " 'to_messages',\n",
       " 'total_payments',\n",
       " 'total_stock_value',\n",
       " 'fraction_to_poi',\n",
       " 'fraction_from_poi']"
      ]
     },
     "execution_count": 16,
     "metadata": {},
     "output_type": "execute_result"
    }
   ],
   "source": [
    "list(df_s)"
   ]
  },
  {
   "cell_type": "code",
   "execution_count": 17,
   "metadata": {
    "collapsed": false
   },
   "outputs": [
    {
     "name": "stdout",
     "output_type": "stream",
     "text": [
      "<class 'pandas.core.frame.DataFrame'>\n",
      "Int64Index: 144 entries, 0 to 145\n",
      "Data columns (total 16 columns):\n",
      "bonus                      144 non-null float64\n",
      "exercised_stock_options    144 non-null float64\n",
      "expenses                   144 non-null float64\n",
      "from_messages              144 non-null float64\n",
      "from_poi_to_this_person    144 non-null float64\n",
      "from_this_person_to_poi    144 non-null float64\n",
      "other                      144 non-null float64\n",
      "poi                        144 non-null bool\n",
      "restricted_stock           144 non-null float64\n",
      "salary                     144 non-null float64\n",
      "shared_receipt_with_poi    144 non-null float64\n",
      "to_messages                144 non-null float64\n",
      "total_payments             144 non-null float64\n",
      "total_stock_value          144 non-null float64\n",
      "fraction_to_poi            144 non-null float64\n",
      "fraction_from_poi          144 non-null float64\n",
      "dtypes: bool(1), float64(15)\n",
      "memory usage: 23.1 KB\n"
     ]
    },
    {
     "name": "stderr",
     "output_type": "stream",
     "text": [
      "/home/amywu/anaconda3/lib/python2.7/site-packages/sklearn/utils/validation.py:429: DataConversionWarning: Data with input dtype int64 was converted to float64 by MinMaxScaler.\n",
      "  warnings.warn(msg, _DataConversionWarning)\n"
     ]
    }
   ],
   "source": [
    "for feature in list(df_s):\n",
    "    if feature == 'poi':\n",
    "        df_s[feature] = df_s[feature]\n",
    "    else:\n",
    "        df_s[feature] = min_max_scaler.fit_transform(df_s[feature].values.reshape(-1, 1))\n",
    "\n",
    "df_s.info()"
   ]
  },
  {
   "cell_type": "code",
   "execution_count": 18,
   "metadata": {
    "collapsed": false,
    "scrolled": true
   },
   "outputs": [
    {
     "data": {
      "image/png": "[encoded data removed]",
      "text/plain": [
       "<matplotlib.figure.Figure at 0x7fc8b1cd0350>"
      ]
     },
     "metadata": {},
     "output_type": "display_data"
    },
    {
     "data": {
      "image/png": "[encoded data removed]",
      "text/plain": [
       "<matplotlib.figure.Figure at 0x7fc8b1cd0250>"
      ]
     },
     "metadata": {},
     "output_type": "display_data"
    }
   ],
   "source": [
    "qlist3 = ['poi','salary','fraction_to_poi']#,'fraction_from_poi','shared_receipt_with_poi'\n",
    "qlist4 = ['poi','fraction_from_poi','shared_receipt_with_poi']\n",
    "drawXY(df_s, qlist3)\n",
    "drawXY(df_s, qlist4)\n"
   ]
  },
  {
   "cell_type": "code",
   "execution_count": 19,
   "metadata": {
    "collapsed": false
   },
   "outputs": [
    {
     "name": "stdout",
     "output_type": "stream",
     "text": [
      "there are 15 features\n",
      "feature list is:\n",
      "['bonus', 'exercised_stock_options', 'expenses', 'from_messages', 'from_poi_to_this_person', 'from_this_person_to_poi', 'other', 'restricted_stock', 'salary', 'shared_receipt_with_poi', 'to_messages', 'total_payments', 'total_stock_value', 'fraction_to_poi', 'fraction_from_poi']\n"
     ]
    }
   ],
   "source": [
    "label = df_s['poi'].copy(deep = True).astype(int).as_matrix()\n",
    "features = df_s.drop('poi', axis = 1).fillna(0).copy(deep=True).as_matrix()\n",
    "\n",
    "print \"there are {} features\".format(len(features[0]))\n",
    "features_list=list(df_s.drop('poi', axis = 1))\n",
    "print \"feature list is:\\n\", features_list\n",
    "\n"
   ]
  },
  {
   "cell_type": "markdown",
   "metadata": {
    "deletable": true,
    "editable": true
   },
   "source": [
    "## Testing Classifiers\n",
    "### This is a classification problem. We may try Random Forest, AdaBoost, K Neighbors"
   ]
  },
  {
   "cell_type": "code",
   "execution_count": 20,
   "metadata": {
    "collapsed": false
   },
   "outputs": [],
   "source": [
    "from sklearn.ensemble import RandomForestClassifier\n",
    "from sklearn.ensemble import AdaBoostClassifier\n",
    "from sklearn.neighbors import KNeighborsClassifier\n",
    "from sklearn.cross_validation import cross_val_score\n",
    "\n",
    "def score(clf, features, label, cv = 5):\n",
    "    \"\"\"\n",
    "    return score \n",
    "    clf: classifiers\n",
    "    features: features, np.array([samples, features])\n",
    "    label: label np.array([samples, 1])\n",
    "    \"\"\"\n",
    "    scores = cross_val_score(clf, features, label, cv = cv)\n",
    "    print \"scores:\\t\", scores \n",
    "    print(\"Accuracy: %0.3f +/- %0.3f \" %(scores.mean(),scores.std()))\n",
    "    \n",
    "#score(AdaBoostClassifier(n_estimators=50), features, label)"
   ]
  },
  {
   "cell_type": "code",
   "execution_count": 21,
   "metadata": {
    "collapsed": false
   },
   "outputs": [],
   "source": [
    "from sklearn.model_selection import GridSearchCV\n",
    "from sklearn.cross_validation import StratifiedShuffleSplit\n",
    "from sklearn.metrics import precision_score\n",
    "from sklearn.metrics import recall_score\n",
    "from sklearn.tree import DecisionTreeClassifier\n",
    "from sklearn.metrics import f1_score\n",
    "\n",
    "def scorer(estimator,features_test,label_test):\n",
    "    \"\"\"\n",
    "    \"\"\"\n",
    "    label_pred = estimator.predict(features_test)   \n",
    "    pre = precision_score(label_test,label_pred)#,average='micro')\n",
    "    rec = recall_score(label_test,label_pred)#,average='micro')\n",
    "    if pre > 0.3 and rec > 0.3:\n",
    "        return f1_score(label_test,label_pred)#,average='macro')\n",
    "    #'binary':'binary': Only report results for the class specified by pos_label. \n",
    "    #         This is applicable only if targets (y_{true,pred}) are binary. \n",
    "    #'micro': Calculate metrics globally by counting the total true positives, false negatives and false positives.\n",
    "    #'macro': Calculate metrics for each label, and find their unweighted mean. \n",
    "    #         This does not take label imbalance into account.\n",
    "    return 0\n",
    "\n"
   ]
  },
  {
   "cell_type": "code",
   "execution_count": 22,
   "metadata": {
    "collapsed": false
   },
   "outputs": [
    {
     "name": "stderr",
     "output_type": "stream",
     "text": [
      "/home/amywu/anaconda3/lib/python2.7/site-packages/sklearn/metrics/classification.py:1113: UndefinedMetricWarning: Precision is ill-defined and being set to 0.0 due to no predicted samples.\n",
      "  'precision', 'predicted', average, warn_for)\n"
     ]
    },
    {
     "data": {
      "text/plain": [
       "GridSearchCV(cv=StratifiedShuffleSplit(labels=[0 0 ..., 0 1], n_iter=20, test_size=0.2, random_state=0),\n",
       "       error_score='raise',\n",
       "       estimator=AdaBoostClassifier(algorithm='SAMME.R',\n",
       "          base_estimator=DecisionTreeClassifier(class_weight=None, criterion='gini', max_depth=8,\n",
       "            max_features=None, max_leaf_nodes=None,\n",
       "            min_impurity_split=1e-07, min_samples_leaf=1,\n",
       "            min_samples_split=2, min_weight_fraction_leaf=0.0,\n",
       "            presort=False, random_state=None, splitter='best'),\n",
       "          learning_rate=1.0, n_estimators=50, random_state=None),\n",
       "       fit_params={}, iid=True, n_jobs=1,\n",
       "       param_grid={'n_estimators': [5, 10, 30, 40, 50, 100, 150], 'learning_rate': [0.01, 0.1, 0.5, 1, 1.5, 2, 2.5, 3, 3.5]},\n",
       "       pre_dispatch='2*n_jobs', refit=True, return_train_score=True,\n",
       "       scoring=<function scorer at 0x7fc8ae182230>, verbose=0)"
      ]
     },
     "execution_count": 22,
     "metadata": {},
     "output_type": "execute_result"
    }
   ],
   "source": [
    "params = {'n_estimators': [5, 10, 30, 40, 50, 100, 150], 'learning_rate': [0.01, 0.1, 0.5, 1, 1.5, 2, 2.5, 3, 3.5]}\n",
    "clf = AdaBoostClassifier(DecisionTreeClassifier(max_depth=8))\n",
    "\n",
    "shuffle = StratifiedShuffleSplit(label, n_iter = 20, test_size = 0.2, random_state = 0)\n",
    "\n",
    "adags = GridSearchCV(clf, params, scoring = scorer, cv = shuffle)\n",
    "adags.fit(features,label)\n"
   ]
  },
  {
   "cell_type": "code",
   "execution_count": 23,
   "metadata": {
    "collapsed": false
   },
   "outputs": [
    {
     "name": "stdout",
     "output_type": "stream",
     "text": [
      "AdaBoostClassifier(algorithm='SAMME.R',\n",
      "          base_estimator=DecisionTreeClassifier(class_weight=None, criterion='gini', max_depth=8,\n",
      "            max_features=None, max_leaf_nodes=None,\n",
      "            min_impurity_split=1e-07, min_samples_leaf=1,\n",
      "            min_samples_split=2, min_weight_fraction_leaf=0.0,\n",
      "            presort=False, random_state=None, splitter='best'),\n",
      "          learning_rate=0.1, n_estimators=10, random_state=None)\n",
      "0.232936507937\n"
     ]
    }
   ],
   "source": [
    "print adags.best_estimator_\n",
    "print adags.best_score_\n"
   ]
  },
  {
   "cell_type": "markdown",
   "metadata": {
    "deletable": true,
    "editable": true
   },
   "source": [
    "## Dump Successful Classifier"
   ]
  },
  {
   "cell_type": "code",
   "execution_count": null,
   "metadata": {
    "collapsed": true
   },
   "outputs": [],
   "source": [
    "\n",
    "ada_best_clf=adags.best_estimator_\n",
    "test_classifier(ada_best_clf, enron_dict, col)"
   ]
  }
 ],
 "metadata": {
  "kernelspec": {
   "display_name": "Python [Root]",
   "language": "python",
   "name": "Python [Root]"
  },
  "language_info": {
   "codemirror_mode": {
    "name": "ipython",
    "version": 2
   },
   "file_extension": ".py",
   "mimetype": "text/x-python",
   "name": "python",
   "nbconvert_exporter": "python",
   "pygments_lexer": "ipython2",
   "version": "2.7.12"
  }
 },
 "nbformat": 4,
 "nbformat_minor": 0
}
