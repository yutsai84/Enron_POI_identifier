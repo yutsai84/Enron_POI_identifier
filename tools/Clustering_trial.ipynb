{
 "cells": [
  {
   "cell_type": "code",
   "execution_count": 127,
   "metadata": {
    "collapsed": false
   },
   "outputs": [
    {
     "name": "stdout",
     "output_type": "stream",
     "text": [
      "[(1, 5), (2, 3), (5, 7), (2, 8)]\n",
      "[(2, 3), (1, 5), (5, 7), (2, 8)]\n",
      "[(1, 5), (2, 3), (2, 8), (5, 7)]\n"
     ]
    }
   ],
   "source": [
    "ta=[1,2,5,2]\n",
    "tb=[5,3,7,8]\n",
    "cc=zip(ta,tb)\n",
    "print cc\n",
    "print sorted(cc,key=lambda x:x[1])\n",
    "print sorted(cc,key=lambda x:x[0])"
   ]
  },
  {
   "cell_type": "code",
   "execution_count": 118,
   "metadata": {
    "collapsed": false
   },
   "outputs": [
    {
     "name": "stdout",
     "output_type": "stream",
     "text": [
      "{'orange': 1, 'apple': 2, 'banana': 3, 'pineapple': 4}\n"
     ]
    }
   ],
   "source": [
    "a = {\"orange\":1,\"apple\":2,\"pineapple\":4,\"banana\":3}\n",
    "print a"
   ]
  },
  {
   "cell_type": "code",
   "execution_count": 119,
   "metadata": {
    "collapsed": false
   },
   "outputs": [
    {
     "data": {
      "text/plain": [
       "['orange', 'apple', 'banana', 'pineapple']"
      ]
     },
     "execution_count": 119,
     "metadata": {},
     "output_type": "execute_result"
    }
   ],
   "source": [
    "a.keys()"
   ]
  },
  {
   "cell_type": "code",
   "execution_count": 120,
   "metadata": {
    "collapsed": false
   },
   "outputs": [
    {
     "data": {
      "text/plain": [
       "1"
      ]
     },
     "execution_count": 120,
     "metadata": {},
     "output_type": "execute_result"
    }
   ],
   "source": [
    "a['orange']"
   ]
  },
  {
   "cell_type": "code",
   "execution_count": 122,
   "metadata": {
    "collapsed": false
   },
   "outputs": [
    {
     "name": "stdout",
     "output_type": "stream",
     "text": [
      "['banana', 'pineapple', 'apple', 'orange']\n",
      "['orange', 'apple', 'pineapple', 'banana']\n",
      "['apple', 'banana', 'orange', 'pineapple']\n"
     ]
    }
   ],
   "source": [
    "a = sorted(a,key=lambda x:x[1])\n",
    "print a \n",
    "a_rev = sorted(a,key=lambda x:x[1],reverse = True)\n",
    "print a_rev\n",
    "print sorted(a)"
   ]
  },
  {
   "cell_type": "code",
   "execution_count": 9,
   "metadata": {
    "collapsed": false
   },
   "outputs": [
    {
     "data": {
      "text/plain": [
       "2"
      ]
     },
     "execution_count": 9,
     "metadata": {},
     "output_type": "execute_result"
    }
   ],
   "source": [
    "a['apple']"
   ]
  },
  {
   "cell_type": "code",
   "execution_count": 23,
   "metadata": {
    "collapsed": false
   },
   "outputs": [
    {
     "name": "stdout",
     "output_type": "stream",
     "text": [
      "['orange', 'apple']\n",
      "apple\n",
      "2\n"
     ]
    }
   ],
   "source": [
    "keys = a.keys()\n",
    "print keys\n",
    "\n",
    "print keys[1]\n",
    "print a[keys[1]]"
   ]
  },
  {
   "cell_type": "code",
   "execution_count": 31,
   "metadata": {
    "collapsed": false
   },
   "outputs": [
    {
     "name": "stdout",
     "output_type": "stream",
     "text": [
      "[1, 2]\n",
      "1\n"
     ]
    }
   ],
   "source": [
    "import numpy\n",
    "temp_list =[]\n",
    "for key in keys:  \n",
    "    value = a[key]\n",
    "    temp_list.append(value)\n",
    "\n",
    "print temp_list\n",
    "print temp_list[0]"
   ]
  },
  {
   "cell_type": "code",
   "execution_count": 29,
   "metadata": {
    "collapsed": false
   },
   "outputs": [
    {
     "name": "stdout",
     "output_type": "stream",
     "text": [
      "[[1 2]]\n",
      "[1 2]\n"
     ]
    }
   ],
   "source": [
    "temp_array = numpy.array([temp_list])\n",
    "print temp_array\n",
    "print temp_array[0]"
   ]
  },
  {
   "cell_type": "code",
   "execution_count": 30,
   "metadata": {
    "collapsed": false
   },
   "outputs": [
    {
     "name": "stdout",
     "output_type": "stream",
     "text": [
      "[1 2]\n",
      "1\n"
     ]
    }
   ],
   "source": [
    "temp_array = numpy.array(temp_list)\n",
    "print temp_array\n",
    "print temp_array[0]"
   ]
  },
  {
   "cell_type": "code",
   "execution_count": 38,
   "metadata": {
    "collapsed": false
   },
   "outputs": [
    {
     "name": "stdout",
     "output_type": "stream",
     "text": [
      "To: Katie_and_Sebastians_Excellent_Students@udacity.com \n",
      " \n",
      " From: katie@udacity.com \n",
      " \n",
      " \n",
      " X-FileName:; \n",
      "\n",
      " Hi Everyone!  If you can read this message, you're properly using parseOutText.  Please proceed to the next part of the project!\n",
      " \n"
     ]
    }
   ],
   "source": [
    "f = \"\"\"To: Katie_and_Sebastians_Excellent_Students@udacity.com \\n \n",
    " From: katie@udacity.com \\n \n",
    " \n",
    " X-FileName:; \\n\n",
    " Hi Everyone!  If you can read this message, you're properly using parseOutText.  Please proceed to the next part of the project!\n",
    " \"\"\"\n",
    "\n",
    "print f"
   ]
  },
  {
   "cell_type": "code",
   "execution_count": 51,
   "metadata": {
    "collapsed": false
   },
   "outputs": [
    {
     "name": "stdout",
     "output_type": "stream",
     "text": [
      "['To: Katie_and_Sebastians_Excellent_Students@udacity.com \\n \\n From: katie@udacity.com \\n \\n \\n ', \"; \\n\\n Hi Everyone!  If you can read this message, you're properly using parseOutText.  Please proceed to the next part of the project!\\n \"]\n",
      "2\n",
      "; \n",
      "\n",
      " Hi Everyone!  If you can read this message, you're properly using parseOutText.  Please proceed to the next part of the project!\n",
      " \n",
      " \n",
      "\n",
      " Hi Everyone  If you can read this message youre properly using parseOutText  Please proceed to the next part of the project\n",
      " \n"
     ]
    }
   ],
   "source": [
    "from nltk.stem.snowball import SnowballStemmer\n",
    "import string\n",
    "all_text = f\n",
    "content = all_text.split(\"X-FileName:\")\n",
    "text_string = content[1].translate(string.maketrans(\"\",\"\"), string.punctuation)\n",
    "print content\n",
    "print len(content)\n",
    "print content[1]\n",
    "print text_string"
   ]
  },
  {
   "cell_type": "code",
   "execution_count": 56,
   "metadata": {
    "collapsed": false
   },
   "outputs": [
    {
     "name": "stdout",
     "output_type": "stream",
     "text": [
      "['Hi', 'Everyone', 'If', 'you', 'can', 'read', 'this', 'message', 'youre', 'properly', 'using', 'parseOutText', 'Please', 'proceed', 'to', 'the', 'next', 'part', 'of', 'the', 'project']\n",
      "<type 'list'>\n"
     ]
    }
   ],
   "source": [
    "stemmer = SnowballStemmer('english')\n",
    "split = text_string.split()\n",
    "print split\n",
    "print type(split)"
   ]
  },
  {
   "cell_type": "code",
   "execution_count": 59,
   "metadata": {
    "collapsed": false
   },
   "outputs": [
    {
     "name": "stdout",
     "output_type": "stream",
     "text": [
      "['hi', u'everyon', 'if', u'you', u'can', u'read', u'this', u'messag', u'your', u'proper', u'use', u'parseouttext', u'pleas', u'proceed', 'to', u'the', u'next', u'part', 'of', u'the', u'project']\n",
      "<type 'list'>\n",
      "hi everyon if you can read this messag your proper use parseouttext pleas proceed to the next part of the project\n",
      "<type 'unicode'>\n",
      "h\n"
     ]
    }
   ],
   "source": [
    "text = [stemmer.stem(word) for word in split]\n",
    "print text\n",
    "print type(text)\n",
    "words = ' '.join(text)\n",
    "print words\n",
    "print type(words)\n",
    "print words[0]"
   ]
  },
  {
   "cell_type": "code",
   "execution_count": 86,
   "metadata": {
    "collapsed": false
   },
   "outputs": [
    {
     "name": "stdout",
     "output_type": "stream",
     "text": [
      "['salary', 'to_messages', 'deferral_payments', 'total_payments', 'exercised_stock_options', 'bonus', 'restricted_stock', 'shared_receipt_with_poi', 'restricted_stock_deferred', 'total_stock_value', 'expenses', 'loan_advances', 'from_messages', 'other', 'from_this_person_to_poi', 'poi', 'director_fees', 'deferred_income', 'long_term_incentive', 'email_address', 'from_poi_to_this_person']\n"
     ]
    }
   ],
   "source": [
    "import pickle\n",
    "data_dict = pickle.load(open(\"../final_project/final_project_dataset.pkl\",\"r\"))\n",
    "keys = data_dict.keys()\n",
    "#print keys\n",
    "#print type(keys)\n",
    "#print data_dict['METTS MARK']\n",
    "#print type(data_dict['METTS MARK'])\n",
    "#print float(data_dict['METTS MARK']['salary'])\n",
    "#print float(data_dict['METTS MARK']['bonus'])\n",
    "#print type(data_dict['METTS MARK']['bonus'])\n",
    "keys_inner = data_dict['METTS MARK'].keys()\n",
    "print keys_inner"
   ]
  },
  {
   "cell_type": "code",
   "execution_count": 89,
   "metadata": {
    "collapsed": false
   },
   "outputs": [
    {
     "name": "stdout",
     "output_type": "stream",
     "text": [
      "[      0.  365788.  600000.]\n"
     ]
    }
   ],
   "source": [
    "import sys\n",
    "sys.path.append(\"../tools/\")\n",
    "from feature_format import featureFormat, targetFeatureSplit\n",
    "\n",
    "features = [\"poi\",\"salary\",\"bonus\"]\n",
    "data = featureFormat(data_dict,features)\n",
    "print data[0]"
   ]
  },
  {
   "cell_type": "code",
   "execution_count": 99,
   "metadata": {
    "collapsed": false
   },
   "outputs": [
    {
     "name": "stdout",
     "output_type": "stream",
     "text": [
      "0.0 [ 365788.  600000.]\n",
      "600000.0\n"
     ]
    }
   ],
   "source": [
    "poi,finance_features = targetFeatureSplit(data)\n",
    "print poi[0],finance_features[0]\n",
    "print finance_features[0][1]"
   ]
  },
  {
   "cell_type": "code",
   "execution_count": 97,
   "metadata": {
    "collapsed": false
   },
   "outputs": [
    {
     "name": "stdout",
     "output_type": "stream",
     "text": [
      "<enumerate object at 0x10d285d70>\n"
     ]
    }
   ],
   "source": [
    "from sklearn.cluster import KMeans\n",
    "clf = KMeans(n_clusters=2)\n",
    "pred = clf.fit_predict(finance_features)\n",
    "print enumerate(pred)"
   ]
  },
  {
   "cell_type": "code",
   "execution_count": 137,
   "metadata": {
    "collapsed": false
   },
   "outputs": [],
   "source": [
    "import sys\n",
    "import pickle\n",
    "import random\n",
    "sys.path.append(\"../outliers/\")\n",
    "from outlier_cleaner import outlierCleaner \n",
    "#ages = pickle.load(open(\"practice_outliers_ages.pkl\",\"r\"))\n",
    "#net_worths = pickle.load( open(\"practice_outliers_net_worths.pkl\", \"r\") )\n"
   ]
  },
  {
   "cell_type": "code",
   "execution_count": null,
   "metadata": {
    "collapsed": true
   },
   "outputs": [],
   "source": []
  }
 ],
 "metadata": {
  "kernelspec": {
   "display_name": "Python 2",
   "language": "python",
   "name": "python2"
  },
  "language_info": {
   "codemirror_mode": {
    "name": "ipython",
    "version": 2
   },
   "file_extension": ".py",
   "mimetype": "text/x-python",
   "name": "python",
   "nbconvert_exporter": "python",
   "pygments_lexer": "ipython2",
   "version": "2.7.11"
  }
 },
 "nbformat": 4,
 "nbformat_minor": 0
}
