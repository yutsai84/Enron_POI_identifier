{
 "cells": [
  {
   "cell_type": "code",
   "execution_count": 5,
   "metadata": {
    "collapsed": false
   },
   "outputs": [
    {
     "name": "stdout",
     "output_type": "stream",
     "text": [
      "[49, 21, 32, 30, 53, 51, 61, 23, 39, 21, 30, 43, 21, 29, 49, 45, 30, 47, 57, 20, 57, 52, 35, 27, 64, 35, 24, 24, 58, 47, 57, 53, 44, 64, 37, 45, 58, 48, 59, 46, 52, 22, 30, 33, 23, 30, 24, 32, 49, 36, 37, 29, 32, 63, 49, 48, 27, 53, 27, 37, 65, 49, 45, 51, 58, 55, 30, 21, 34, 32, 29, 63, 60, 34, 50, 38, 62, 41, 32, 31, 45, 32, 46, 61, 38, 30, 65, 43, 24, 22, 25, 48, 56, 39, 22, 37, 65, 44, 64, 59]\n",
      "100\n",
      "<type 'list'>\n"
     ]
    }
   ],
   "source": [
    "import pickle\n",
    "from outlier_cleaner import outlierCleaner\n",
    "ages = pickle.load(open(\"practice_outliers_ages.pkl\",\"r\"))\n",
    "net_worths = pickle.load(open(\"practice_outliers_net_worths.pkl\",'r'))\n",
    "print ages\n",
    "print len(ages)\n",
    "print type (ages)"
   ]
  },
  {
   "cell_type": "code",
   "execution_count": 6,
   "metadata": {
    "collapsed": true
   },
   "outputs": [],
   "source": [
    "from sklearn.cross_validation import train_test_split\n",
    "ages_train, ages_test,net_worths_train,net_worths_test = train_test_split(ages,net_worths,test_size=0.1,random_state=42)"
   ]
  },
  {
   "cell_type": "code",
   "execution_count": 7,
   "metadata": {
    "collapsed": false
   },
   "outputs": [
    {
     "name": "stdout",
     "output_type": "stream",
     "text": [
      "[(1, 4), (2, 7), (3, 8)]\n",
      "[(1, 2, 3), (4, 7, 8)]\n"
     ]
    }
   ],
   "source": [
    "a = [1,2,3]\n",
    "b = [4,7,8]\n",
    "c = zip(a,b)\n",
    "d = zip(*c)\n",
    "print c \n",
    "print d"
   ]
  },
  {
   "cell_type": "code",
   "execution_count": null,
   "metadata": {
    "collapsed": true
   },
   "outputs": [],
   "source": []
  }
 ],
 "metadata": {
  "kernelspec": {
   "display_name": "Python 2",
   "language": "python",
   "name": "python2"
  },
  "language_info": {
   "codemirror_mode": {
    "name": "ipython",
    "version": 2
   },
   "file_extension": ".py",
   "mimetype": "text/x-python",
   "name": "python",
   "nbconvert_exporter": "python",
   "pygments_lexer": "ipython2",
   "version": "2.7.11"
  }
 },
 "nbformat": 4,
 "nbformat_minor": 0
}
