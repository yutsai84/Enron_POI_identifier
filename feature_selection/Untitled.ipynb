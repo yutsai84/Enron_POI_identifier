{
 "cells": [
  {
   "cell_type": "code",
   "execution_count": 74,
   "metadata": {
    "collapsed": true
   },
   "outputs": [],
   "source": [
    "import pickle\n",
    "import numpy\n",
    "numpy.random.seed(42)\n",
    "\n",
    "\n",
    "### The words (features) and authors (labels), already largely processed.                                                                                                    \n",
    "### These files should have been created from the previous (Lesson 10)                                                                                                       \n",
    "### mini-project.                                                                                                                                                            \n",
    "words_file = \"../text_learning/your_word_data.pkl\"\n",
    "authors_file = \"../text_learning/your_email_authors.pkl\"\n",
    "word_data = pickle.load( open(words_file, \"r\"))\n",
    "authors = pickle.load( open(authors_file, \"r\") )\n"
   ]
  },
  {
   "cell_type": "code",
   "execution_count": 75,
   "metadata": {
    "collapsed": true
   },
   "outputs": [],
   "source": [
    "### test_size is the percentage of events assigned to the test set (the                                                                                                      \n",
    "### remainder go into training)                                                                                                                                              \n",
    "### feature matrices changed to dense representations for compatibility with                                                                                                 \n",
    "### classifier functions in versions 0.15.2 and earlier                                                                                                                      \n",
    "from sklearn import cross_validation\n",
    "features_train, features_test, labels_train, labels_test = cross_validation.train_test_split(word_data, authors, test_size=0.1, random_state=42)\n",
    "\n",
    "from sklearn.feature_extraction.text import TfidfVectorizer\n",
    "vectorizer = TfidfVectorizer(sublinear_tf=True, max_df=0.5,\n",
    "                             stop_words='english')\n",
    "features_train = vectorizer.fit_transform(features_train)\n",
    "features_test  = vectorizer.transform(features_test).toarray()"
   ]
  },
  {
   "cell_type": "code",
   "execution_count": 76,
   "metadata": {
    "collapsed": false
   },
   "outputs": [
    {
     "name": "stdout",
     "output_type": "stream",
     "text": [
      "150\n",
      "150\n"
     ]
    }
   ],
   "source": [
    "### a classic way to overfit is to use a small number                                                                                                                        \n",
    "### of data points and a large number of features;                                                                                                                           \n",
    "### train on only 150 events to put ourselves in this regime                                                                                                                 \n",
    "features_train = features_train[:150].toarray()\n",
    "labels_train   = labels_train[:150]\n",
    "print len(features_train)\n",
    "print len(labels_train)"
   ]
  },
  {
   "cell_type": "code",
   "execution_count": 77,
   "metadata": {
    "collapsed": false
   },
   "outputs": [
    {
     "name": "stdout",
     "output_type": "stream",
     "text": [
      "[0 1 1 ..., 1 0 1]\n",
      "150\n",
      "1758\n",
      "0.816837315131\n"
     ]
    }
   ],
   "source": [
    "#### from sklearn.tree import DecisionTreeClassifier\n",
    "clf = tree.DecisionTreeClassifier()\n",
    "clf.fit(features_train,labels_train)\n",
    "pred = clf.predict(features_test)\n",
    "print pred\n",
    "print len(labels_train)\n",
    "print len(pred)\n",
    "from sklearn.metrics import accuracy_score\n",
    "accu = accuracy_score(pred,labels_test)\n",
    "#accu = clf.score(features_test,labels_test)\n",
    "print accu"
   ]
  },
  {
   "cell_type": "code",
   "execution_count": 90,
   "metadata": {
    "collapsed": false
   },
   "outputs": [
    {
     "name": "stdout",
     "output_type": "stream",
     "text": [
      "Features No.21323 with importances 0.363636363636\n",
      "houectect\n"
     ]
    }
   ],
   "source": [
    "importances = clf.feature_importances_\n",
    "\n",
    "#for index, item in enumerate(importances):\n",
    "#    if item>0.2:\n",
    "#        print index, item\n",
    "        \n",
    "#indices = numpy.argsort(importances)[::-1]\n",
    "#print \"Feature Ranking:\"\n",
    "#for i in range(10):\n",
    "#       print \"{} feature no.{} ({})\".format(i+1,indices[i],importances[indices[i]])\n",
    "#print indices\n",
    "#print importances\n",
    "#print type(importances)\n",
    "for i in range(len(importances)):\n",
    "    if importances[i]>=0.2:        \n",
    "        print \"Features No.{} with importances {}\".format(i,importances[i])\n",
    "        #print which features cause the problem\n",
    "        print vectorizer.get_feature_names()[i]"
   ]
  },
  {
   "cell_type": "code",
   "execution_count": null,
   "metadata": {
    "collapsed": true
   },
   "outputs": [],
   "source": []
  }
 ],
 "metadata": {
  "kernelspec": {
   "display_name": "Python 2",
   "language": "python",
   "name": "python2"
  },
  "language_info": {
   "codemirror_mode": {
    "name": "ipython",
    "version": 2
   },
   "file_extension": ".py",
   "mimetype": "text/x-python",
   "name": "python",
   "nbconvert_exporter": "python",
   "pygments_lexer": "ipython2",
   "version": "2.7.11"
  }
 },
 "nbformat": 4,
 "nbformat_minor": 0
}
